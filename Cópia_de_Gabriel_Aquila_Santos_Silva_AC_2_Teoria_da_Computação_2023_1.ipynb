{
  "nbformat": 4,
  "nbformat_minor": 0,
  "metadata": {
    "colab": {
      "provenance": [],
      "include_colab_link": true
    },
    "kernelspec": {
      "name": "python3",
      "display_name": "Python 3"
    },
    "language_info": {
      "name": "python"
    }
  },
  "cells": [
    {
      "cell_type": "markdown",
      "metadata": {
        "id": "view-in-github",
        "colab_type": "text"
      },
      "source": [
        "<a href=\"https://colab.research.google.com/github/GabrielAquila/Impacta-v2/blob/main/C%C3%B3pia_de_Gabriel_Aquila_Santos_Silva_AC_2_Teoria_da_Computa%C3%A7%C3%A3o_2023_1.ipynb\" target=\"_parent\"><img src=\"https://colab.research.google.com/assets/colab-badge.svg\" alt=\"Open In Colab\"/></a>"
      ]
    },
    {
      "cell_type": "code",
      "source": [],
      "metadata": {
        "id": "MJVkFOzrqbcC"
      },
      "execution_count": null,
      "outputs": []
    },
    {
      "cell_type": "markdown",
      "source": [
        "# AC 2 → Teoria da Computação\n",
        "\n",
        "## Expressões regulares e autômatos finitos\n",
        "\n",
        "Equipe:\n",
        "\n",
        "* Gabriel Aquila Santos Silva\n",
        "* Rafael Oliveira Santos\n",
        "* Matheus Bespalec Daloia\n",
        "* Rodrigo Precerutti"
      ],
      "metadata": {
        "id": "SxgNmNbGFM8G"
      }
    },
    {
      "cell_type": "code",
      "execution_count": null,
      "metadata": {
        "id": "TvNGfv3e7vLf"
      },
      "outputs": [],
      "source": [
        "import re"
      ]
    },
    {
      "cell_type": "markdown",
      "source": [
        "# 1. Implemente e teste uma expressão regular que reconheça a seguinte linguagem com o alfabeto $\\Sigma = \\{a, b, c, d\\}$:\n",
        "\n",
        "$$L = \\{a, abb, abbccc, abbcccdddd, abbcccddddd, abbcccdddddd, ...\\}$$"
      ],
      "metadata": {
        "id": "n2flhxj175F9"
      }
    },
    {
      "cell_type": "code",
      "source": [
        "testes = [\"a\", \"aa\", \"e\", \"abbcccdddddd\", \"abbcccddddddddd\", \"abbccdddddd\", \"abbccccdddddd\", \"abb\", \"abbcc\", \"abbcccddd\"]\n",
        "\n",
        "regex = r\"a(b{2})?(c{3})?(d{5,})?\"\n",
        "\n",
        "for teste in testes:\n",
        "  resultado = re.fullmatch(regex, teste)\n",
        "  if resultado is not None:\n",
        "    print(f\"String '{teste}' é aceita\")\n",
        "  else:\n",
        "    print(f\"String '{teste}' é rejeitada\")"
      ],
      "metadata": {
        "id": "X1YJoipL71ue",
        "colab": {
          "base_uri": "https://localhost:8080/"
        },
        "outputId": "6ea64df3-d38c-4440-c5b9-be43e95c6cb0"
      },
      "execution_count": null,
      "outputs": [
        {
          "output_type": "stream",
          "name": "stdout",
          "text": [
            "String 'a' é aceita\n",
            "String 'aa' é rejeitada\n",
            "String 'e' é rejeitada\n",
            "String 'abbcccdddddd' é aceita\n",
            "String 'abbcccddddddddd' é aceita\n",
            "String 'abbccdddddd' é rejeitada\n",
            "String 'abbccccdddddd' é rejeitada\n",
            "String 'abb' é aceita\n",
            "String 'abbcc' é rejeitada\n",
            "String 'abbcccddd' é rejeitada\n"
          ]
        }
      ]
    },
    {
      "cell_type": "markdown",
      "source": [
        "## Resultados esperados\n",
        "\n",
        "String 'a' é aceita\n",
        "\n",
        "String 'aa' é rejeitada\n",
        "\n",
        "String 'e' é rejeitada\n",
        "\n",
        "String 'abbcccdddddd' é aceita\n",
        "\n",
        "String 'abbcccddddddddd' é aceita\n",
        "\n",
        "String 'abbccdddddd' é rejeitada\n",
        "\n",
        "String 'abbccccdddddd' é rejeitada\n",
        "\n",
        "String 'abb' é aceita\n",
        "\n",
        "String 'abbcc' é rejeitada\n",
        "\n",
        "String 'abbcccddd' é rejeitada"
      ],
      "metadata": {
        "id": "93wSK-VgrQyA"
      }
    },
    {
      "cell_type": "markdown",
      "source": [
        "# 2. Implemente e teste uma expressão regular que reconheça a seguinte linguagem com o alfabeto $\\Sigma = \\{x, y, z\\}$:\n",
        "\n",
        "$$L = \\{xy, xyzxy, xyzxyzxy, xyzxyzxyzxy, xyzxyzxyzxyzxy, ...\\}$$"
      ],
      "metadata": {
        "id": "RFBdiVjg8ZRz"
      }
    },
    {
      "cell_type": "code",
      "source": [
        "testes = [\"xx\", \"xy\", \"xyxy\", \"xyz\", \"zxy\", \"xyzxy\", \"xyzxyxy\", \"xyzxyzxyzxyzxy\", \"zxyzxyzxyzxy\", \"xyzxyzxyzxyz\"]\n",
        "\n",
        "regex = r\"xy(zxy)*\"\n",
        "\n",
        "for teste in testes:\n",
        "  resultado = re.fullmatch(regex, teste)\n",
        "  if resultado is not None:\n",
        "    print(f\"String '{teste}' é aceita\")\n",
        "  else:\n",
        "    print(f\"String '{teste}' é rejeitada\")"
      ],
      "metadata": {
        "id": "6KAwNgbn8ZiT",
        "colab": {
          "base_uri": "https://localhost:8080/"
        },
        "outputId": "bd19f35d-21ea-4c68-8db5-7e35d9460d51"
      },
      "execution_count": null,
      "outputs": [
        {
          "output_type": "stream",
          "name": "stdout",
          "text": [
            "String 'xx' é rejeitada\n",
            "String 'xy' é aceita\n",
            "String 'xyxy' é rejeitada\n",
            "String 'xyz' é rejeitada\n",
            "String 'zxy' é rejeitada\n",
            "String 'xyzxy' é aceita\n",
            "String 'xyzxyxy' é rejeitada\n",
            "String 'xyzxyzxyzxyzxy' é aceita\n",
            "String 'zxyzxyzxyzxy' é rejeitada\n",
            "String 'xyzxyzxyzxyz' é rejeitada\n"
          ]
        }
      ]
    },
    {
      "cell_type": "markdown",
      "source": [
        "## Resultados esperados\n",
        "\n",
        "String 'xx' é rejeitada\n",
        "\n",
        "String 'xy' é aceita\n",
        "\n",
        "String 'xyxy' é rejeitada\n",
        "\n",
        "String 'xyz' é rejeitada\n",
        "\n",
        "String 'zxy' é rejeitada\n",
        "\n",
        "String 'xyzxy' é aceita\n",
        "\n",
        "String 'xyzxyxy' é rejeitada\n",
        "\n",
        "String 'xyzxyzxyzxyzxy' é aceita\n",
        "\n",
        "String 'zxyzxyzxyzxy' é rejeitada\n",
        "\n",
        "String 'xyzxyzxyzxyz' é rejeitada"
      ],
      "metadata": {
        "id": "ayBiA5oirwp3"
      }
    },
    {
      "cell_type": "markdown",
      "source": [
        "# 3. Implemente e teste uma expressão regular que reconheça a seguinte linguagem com o alfabeto $\\Sigma = \\{0, 1\\}$:\n",
        "\n",
        "$$L = \\{001, 1011, 00111, 101111, 0011111, 10111111 ...\\}$$"
      ],
      "metadata": {
        "id": "FS8irIUl8xen"
      }
    },
    {
      "cell_type": "code",
      "source": [
        "testes = [\"00\", \"00l\", \"000\", \"10\", \"101\", \"10111111111111\", \"11111111\", \"00111111\", \"1O11\", \"1011111\"]\n",
        "\n",
        "regex = r\"(0{2}1|101{2})(1{2})*\"\n",
        "\n",
        "for teste in testes:\n",
        "  resultado = re.fullmatch(regex, teste)\n",
        "  if resultado is not None:\n",
        "    print(f\"String '{teste}' é aceita\")\n",
        "  else:\n",
        "    print(f\"String '{teste}' é rejeitada\")"
      ],
      "metadata": {
        "id": "3DLrj9Em8xoZ",
        "colab": {
          "base_uri": "https://localhost:8080/"
        },
        "outputId": "a70df51a-e26d-4da1-db9c-885bd223d96e"
      },
      "execution_count": null,
      "outputs": [
        {
          "output_type": "stream",
          "name": "stdout",
          "text": [
            "String '00' é rejeitada\n",
            "String '00l' é rejeitada\n",
            "String '000' é rejeitada\n",
            "String '10' é rejeitada\n",
            "String '101' é rejeitada\n",
            "String '10111111111111' é aceita\n",
            "String '11111111' é rejeitada\n",
            "String '00111111' é rejeitada\n",
            "String '1O11' é rejeitada\n",
            "String '1011111' é rejeitada\n"
          ]
        }
      ]
    },
    {
      "cell_type": "markdown",
      "source": [
        "## Resultados esperados\n",
        "\n",
        "String '00' é rejeitada\n",
        "\n",
        "String '00l' é rejeitada\n",
        "\n",
        "String '000' é rejeitada\n",
        "\n",
        "String '10' é rejeitada\n",
        "\n",
        "String '101' é rejeitada\n",
        "\n",
        "String '10111111111111' é aceita\n",
        "\n",
        "String '11111111' é rejeitada\n",
        "\n",
        "String '00111111' é rejeitada\n",
        "\n",
        "String '1O11' é rejeitada\n",
        "\n",
        "String '1011111' é rejeitada"
      ],
      "metadata": {
        "id": "GJcvMAo9sWR0"
      }
    },
    {
      "cell_type": "markdown",
      "source": [
        "# 4. Implemente e teste uma expressão regular correspondente ao diagrama a seguir com o alfabeto $\\Sigma = \\{a, b\\}$:\n",
        "\n",
        "![image.png](data:image/png;base64,iVBORw0KGgoAAAANSUhEUgAAAgIAAAEYCAYAAAAu4J6sAAAACXBIWXMAAA7DAAAOxwGjA21gAABZuklEQVR4nO29CVhTZ/r+/7ZFRUBBQaFugCQKiCx1AaJWUCsEtYK24tZB2ylolwFnisv8vGrt36kL/Y7YTqtkpipTW5fWinUBWhUcS8CqBZUKmiCgVkVBoYJFpfWfGzkakYQtyTlJns91nSvLOUmebOe932d7Le7fv88IghA+ly5dCqitrbXD5c3KqkE3b94UaTq2R48ep7rYWBf36dMnx9LSshKXhrSVIAjjwYJvAwiCaJrq6mqnwsLC8HMK5bTz54tGdXfoWd2hkyXr4uBkZ9XtWdavn7vmx1ZW+F6trmGKH7Ir792pZTfKr9n07+92ZIBYtMPd3T3FxsbmqgHfCkEQAoaEAEEIiKtXr/rm//zzrHPnFFOra6odn3URMwdXD6uw58PY089Y2LX0eRx69eWu1j/mj9/rWNnF4uCCkhL/Q5mZ/2djbVM2YIB4p9egQV84OTnl6eO9EARhHJAQIAgBkJeXNycjMzPBoqNlByfXgbaDng9ltvY9dfb8KhHBICpUm9XgkS+wqoprrtcuFL/z1Tcpr9fdrb0XHBQU7+vru1lnL0gQhNFAQoAgeASu/0MZmf+07t6zh/+ESBurLrYGeV2IDGxiP3/b27eq2Mmfsj+WZ+e8OyY46K8IHRjECIIgBAEJAYLggZKSkiCVAFh736Kjq2r2b6vL2X9rgfjwGR1qU1VxzSbrmHyzShAUqwTBAhcXl0zejCIIwmCQECAIA4IEwG/37P3y15rf/ETPSezUYvm8AzEy5IVw2/LLF33TDmTs6mrdOffFSRNnUmIhQZg2JAQIwkAgEfDrXSmpbn6BTp4uYr7N0QjEiUOvSLsrJYrgzZ9vyX0pIlxKCYUEYbqQECAIA3D6dP4rR7Jz1g4LmWrfycqab3NaBJILu/fs5fTNt7sPjAoMWDB4sNfnfNtEEITuISFAEHrmuwMHP718rWJ6wIRp3ZC9b0xAtKjstj9xOG3dlbKywPHjxr7Bt00EQegW4zorEYQRgS6A3+xK2d2pm6Of75iJXfi2p61AvKjs71aUd3T2l1u3DZoSET4Z3Qr5tosgCN1AQoAg9ABEwJat27L7ePi5ObmIO/Btjy5w8/XvcrVEEYj3NXvG9EASAwRhGpAQIAg9AE+AKYkAjob344b3N3PG9NF820MQRPshIUAQOgY5AQgHmJoI4MD7ulVx/blDGZkfjgkOeodvewgVqTEjnwqTHWGSxFxFVuwoEWM1fJtEGA8kBAhCh6A6AImBxpwT0BLEQyQ2J75PmVtQUHjUw8P9K77tIQii7ZAQIAgdgeWB5T8e++ew0Knd+LbFEPiNmdj9wO4vN/To4XDawcGhkG97CIJoGyQECEIHoGPg3v1p272DJzgYW4lgW8H7HPLC5O7bv/r6wGtz53hR8iBBGCfmccYi2o0ydd3YhBU74mVyecjDOyWSwuhpS5PjY6Ufm3tMEm2Dnb2H9TPUokFCAe/X1XtYT9X73zbt5ZdC+baHAEqL1JioD1bI5PPkjHVT/VHvSqKnbV8aH7tGKmL5fFtHCA8SAkSzpMaM+CBMJl/yxA653F0mD1sp25E4zZwTlNA6uOJm5XOewcJtG6xPerl5dDhy8lgAPgdqRcw3ZywSRsSlyOQs6NF98o5ymfyVMNmOyOj9WXOTpOxL3swjBAkJAUI7qTEjH4gAyd3o/cmvJ0lF/32wo37W8X79PnmcX0Jq7GRzPcF8syvlG+/RoeblCmiE6LlAWyynPHPG9DF822LWyGWDZaoLSeL+D5JjpR/Ui3Nlar+YqLBkmVweJAuLkYXfTzogZewa36YSwoGEAKGV1BRZBC4licmrHokAIKqTJiW/m5gv9oqTs0n555QDmVTEl5m8UVhYGN7Jpmt3PpcRFgJYl6D45I9+SJjs06dPDt/2mDOSRMX7WbGiZQ/vEEkvJGUpXvAcIf4mTi6btGJd/JtS9f2E2UNCgNCKNOn+3+4nsb/xbYdQwSx40PPm7Q3gGDTyBTvkSrwxf15/vm0xX6JrlsaKPnnyflFd7NLoNXFhsknyHfsmKWNj15hrKI94EhICRCtQWiiVCrFCwVzOpaSM25EvGy2XsyF8W8UX6BlgZdvdzty9ARz4HOAdgZfE3d09hW97zJLo8O81uv3FnpcljN2Uy88MUDBmTUKA4CAhQDSLMjUmJGqF7B/mPOg3RVp6+r+en/KnrnzbISREz0lsD2Wk/ZOEAEEYDyQECO2kxowUh8nSHtyQ3JVIvHK8vDzzPcMHZE4Qi3P3RYn/iRwBfo00PIiFW3fp+geW6SUeAa/A3bo6+/LycndqMkQQxgEJAUILSot1K2QLce2JBKSG/XxYJQQUSuVE+z4uNnzbIUR69HHtpFQqQ0kI8IAs5YXUJGnPJsMDijO96vsKSDxzxRQWINQw2xM50RIUFmfkzEdjAlJqQsAOORvJg2G8U1BQOHPQ86H0/2kCR2dRpzMns6MCAgIS+bbF/JBZp6QmjZM+UcqrJuqnTdhD+QGEOnQiI1qAzDosJjxJkSSd/eAEorRIXZfw+oo42T8edC4zLyorK11+q63tQUmCTdPd8VmWW1Ehrq2ttaO2w4ZHFjZiE0tM7hUfK1r/eB8BNBnSVFVAmDMkBAgtSGvjEyXLZXHyz1Rnl3CxjFU/tluSmLt/2o5lYXHyj+RnFN6MmUcfgZKSkiCHXv34NkOwYA0Ch159f0d4wMvLaxvf9pgVkujT0UxWIYsTJ8jiWEKjnXcTFUljqZkQ0RgSAoRWRLFZGxUDYn55rGoAawwsTV5Z32Ao9cxIxuSM5Z9zVjKpWZQknSko/FNPVw8jyQ/4jq14NoLtnL2L5SaMN9ir2vd26apQFk0lIWBoPOvisxTh4TFRix5fa2DpF8lJ0rfN4f9JtB4SAkSziKRJ6Vmqrcmd0qQf7t9PesrAJvFGXV2dZWlpaaD782F8m9IisuJVIoCH133WVcwOZmdMYGwyD69uhjT6H4qSsv4uTWJ/59MkwnggIUAQrQBlcTZdbe88/YyFJd+2aKdIJQK82Vtb+Hn1Dh07sactnrmP5ZltbGyu8mMFQRAtgYQAQbQCJApadRF4D6Hi79iKv0Swncf5NaObg+NdrEgoEonS+LWEIAhtkBAgzIa0tLTQw4cPj46MjNzu6+vbpuVy4RGwsu1uuC5CqkH9y09Xs/QtOexU/R0BzHv2IrYiYTy7EG9dP+Of+kUNW8qt+XfobeY3a2P9Ve/Zu9gK6R72YsNtQ2Np07UjhBMvL04QRIshIUCYDarZqdOqVasWY3NycroaHh6eEhISko7Llj7Hzcoqj8423Qzzvyn+hEVJFjYIAA6VINgSwV4sXMPi3TU8buirLH5BHJs5xk0lDPbo304NWNl2syovr/DmzQCCIFoECQHCLIEo2LBhwzxsdnZ2laGhoWmTJ0/ejUvc1vS432p/c7C2czKAhd+xFZwIUA3s//roYzbCFTeKWJYsmr21bCFLaMr1P+Zjljumift5oENHS/bbzZs9+LaDIAjtkBAgzJ7Kykq7bdu2TceG2+qiwMXFpUT92Opb1b2699d/5eBF2eqGbH+VCNijEgEP97ixEdEH2bdsLHtxWY7e7SAIwvQhIUAQjUAuATZcRy4BcgoQPnB3dzdY7/wLigeDvPfyODUR8Ii+0YvY1GX8lAa2FEsra3b14q0+fNtBEIR2SAgQJkVeXp4vZvjc7cLCQneEAbh9bXk+bEuWLFkZEBCQM3HSi5b9fHRpcVMUsdIGySEWuWk4ZjwLns3YTp7KA1vC7du32fyYmGFRr7xyvy2Pt7S0rMVn3trH+Pv7H9V2DMRdU+EfTfcThKlDQoAQNCUlJS7YcD0zMzMIl2fPnh2oPrirD/yNT+aYxTs6OpbheltO8hhYpk+fvg2hAngFNm7anNu+d9QaAlh/V8O9mq6xsrJi65OSjv1p9uzAtjy+trbWMicnJ0DXj0lOTo5S/81wNP4tAYSGGoeHcNvZ2bmUu43fGJJPcb0t4oUg+IaEAMErOGljUMdJuKyszBEzeNzPDfrqJ+LRo0cfxiUGZe7E25pZHJ4Tg0BLjkV+AEICEAE4ubf+nemCHHa+WHVhpGKg9nYN62LT5VJbH4/PPSgoKLO1j8N319bXbIy6ENV03+7duydzwrSxEFEXCeoCQv13jf2GDDsRRGNICBB6BydJDPDcYI8TJXcyxewJJ0IfH5+T2DD44jEZGRnBhrYToiImJiYJM3/u5N0Ymy42l+/crm51iKF1uDFnyKHjjCmURYyNaSo88Ch8QOiPpjwCrUE9NKUuINDPghOl3P8D1/F/gADC72/gwIFn1e9rry0EoQkSAoROwWCPgf7kyZM+OLlhFs7NeDDQwk2/bNmy5UI5qcEGzPqjoqKSWzIr62zZufze3Tt6t2uE9FXGtmxkp5Ylsqzoj59MGDyU2HT5oIC4d7eWWVtaXufbDj7Bb6o1s338d+BVUBcH69ati8V9nJDg/k+cWIBHjPOMtbVRFmHekBAg2gw3yz969Kg/LjHo40SEGQw3u+djZt8cOGFi8Id9rXU9d7OzLbh449c6pu//zpg4Fj90o2qw38jemsRY/EdxbKbrA8/AxUNvs6U8dQtsDberbt52dul9qvkjCY6W5BdwIoG7LC0tdUZ4AvkN+B9yQoELRXCigZIhCU2QECBaDGYrOOHgEhtONDi5IEsbcXshDvrqwN6tW7fOgAho63M4ODgUni2+gKVcbXVoWhO4sZl7drHzk7BmgEoQSDY2Wlz+VTZ19kZBVw3UVv96185uUAnfdpgaGNQ1ha4AJxA4DwKXw8BVzeA/iw0igbtOAsG8ISFAaAQnEa4/Py4xs8CAD9c+F7fk28bWoItwhOqEWXL71q86sqg5xrOle06xYFkik+3ZyE41hAK8Z69hKxLeZBfiNwq6j8DN8rKOqgGLXNUGRptQ4LwG2DhPgrpAQEIuF8ajBEbzgYQA8RDEIeHeT09PD8HAj9tcl73169fPp1nDA49A9a9Vnf74vY49/Ywh/j7oJPhx/daYCy15OFoOX3nysfoGeRR/1P3+FC1BLCzwH0Y4rHFIjBMI+P9DHCxfvnwZvAo4DqIAoT6IfxIHpgkJAYKlpKSEb9++PRKDP/7sWIhn165dEfSnfxILC4taZ2fn7LKLxcHPuoj5NkewXClWsIHu7vv4toNoGZoEAoQBBAK8gqtXr14EwYBzBMKBuGxLeSchPEgImCn4cyclJcVABOAPjcS5TZs2zTU2dz8feHq4//fk2aJhKiGg/0UHjJSKX0p+HebtKeTIBdECGosD5BogPwgJwvAaBAcHZ+D8oS4OhFANRLQOEgJmBGL+WFgH9csY8FEzj3i/tsQj4klUJ7rMgxmZfJshWBA2Kb988RnRlBd11tiHEAbc8t3qS3dzycMIKaAVN+6DIEC+gbaeHIRwICFgBmDWj1pkCAFkzJPbv30gYbCzpeX1qoprNrb2Pfk2R3DcKLvC7O3tFSqxafY5JeYA5xHgbuM8A2GAcAK8BhACXK4RtV8WJiQETBQk+mH2jz8ikn0w86d4nu7w8HD/8mqJYpFKCPD2HxqRUMNyE5o/ztCUlSrveHq4J/NtB8EPXHUOJh1IMkYYEvlHCxYsWIsERHgJkIcEcUAJyMKAhICJgWSeDRs2zEP8HwM/avspZqd7xCLR3oJ9qW+yISOeWLzG3Ll+qfhOyCh/CgsQ9XC9ChYvXrwK5yd4KBFGmD9//np4JpGfBFFAXkr+ICFgIiCJB1m9+JNBiWdnZwdSbE5/9OnTJ6fm1q9P37ldwzpZWfNtjmCoqrjGOlpYVKDMkm9bCOEBD8CcOXM2Y8NthBBQsRQREbELt5G3hPMXnbsMCwkBIwchALj/EQaIjY1dl5ub60fuNsMQGhLy1omcjHW+YyZ249sWoaD8SV41Jjjor3zbQRgHXH7B2rVrFyBsAE+mn59fLryZyCloTxdQouWQEDBiMPtH3A0quqCgwINK/wzL4MFenx/54YflqllwN0oafOANuFP96w13d/eU5o8miMdBaACCABsmNggf4PwGMYBzHIUO9AcJASMEyhl/EAz8FALgF8x+s47JNw95IVzPaw8In59/+L7yxUkTZ/JtB2H8YPDHhpAnRAFCB1zJM+4nr6duISFgRHBhAGTgrly5cgkSbPi2ydzB7PdQRuYN1WzY1py9AldKFMyua5dc5E7wbQthOmCSExcXl4iNa4KGcyDEwKJFi1bTJEg3kBAwEpBUM2PGjK1QxPACUBhAOEyJCJ/y1TcpmaOm/MlsvQLKn7KrXp4STrkBhN5A5QHKERE6QGVUYGBgNnIJUBpNlVHtg4SAEbBq1arFiJdRGECYYIU9+252P6lmxWa5/sDlooJ7jj0ccmilQcIQYBIED8G8efM2IGyANscQBEiWhljg2z5jhISAgEHNLbwA+HFDBPBtD6EZxMa3fLntqK19z35WXczHMXD7VhUrPnXs2mtz50zn2xbCvIAg4EoRVcyZO3fuJngGEDKgDoatg4SAQEEoAA03KBfAOMByuxPDQiP3paftGRY61cEwSxTzC9YUOPH97hszpr00jtoJE3zCCQKukgoiASEE8hC0DNM/WxkhiYmJcQgFYE0Ain0ZD0iUkwwf9tcTh9PMordA7qG9N8YFB82j5kGEUOAWRMLyyfAQYBIFDwFVGWiHhIDAwI8XP9rU1FQpJQQaH+gtcKWsLLAo7+hsN1//Lnzboy8UJ+TVrn16bfLwcP+Kb1sIojHIGUBzNeRXIakQCYXUnEgzJAQEBEQAlu7k2m8Sxsn4cWPf+HLrtkFXSxSBTi7iDnzbo2tU7+vevV/LfxozYfo7fNtCENrA+gY4nyJcgOXXES6gxkRPQkJAAKA/APIBSASYDlMiwidv2botW3XVzZTEAETApYLcotkzpk/m2xaCaAmotNq6desM9F9B8jXCBfAQkMf1ESQEeAYiAD9O9NUmEWA6IHlONVgGfrMrZXdN5Q0/UwgTFOUdvXXnZlkuRAAlBxLGBgQAQgbIwUK4YNOmTXMpmfABJAR4hBMBaBJElQGmBwbLmTOmj/7uwMFP8w7tne49OrSbMVYToDrg1OG0m7162m+bOmP6G3zbQxBtBV4AhAuQUIhQbFRUVDL6EfBtF98Y31nJRCARYD4gZ+D06fzsI/t2rB0ybrK9MS1bjGWWTxzYXTEqMGABEiH5tocgdAHyBDIyMoKRO4CwLHIHzDlUQEKAJ/DjQziARIB5gEG0Rw+H01/v2pnq5hfoZAwdCLF+QFFu9tWXIsKl1DWQMDUw8KNlMdoVS6XSVIQKzLVcm4QADyBGhRJBygkwLzCYznlltt+3e/Z+WZr/k5/oOYmdQ6++fJv1BOWXLzLlT/LKrtadc1X2zkSzJL5tIgh9gdAAcgWwwiE8A8gj4NsmQ0NCwMCgYyCaBaFPAN+2EIYHg+rMGdPHlJSUBB3KyFxb+vMJV5UgEMTKhVUV1yAAqp6qu1scOi54gWp2lMm3TQRhCNCSGKECiAGscoi1DPi2yZCQEDAgWFsbIQFqFkRgkH117hy/wsLC8EMZaf+07t6zh/i5QBs+1inAegGKn7Kra25cuz4mOOivWFrZ4EYQBM/AS8vlDbzXAN82GQoSAgYEyYFwPdEKggQHBl1sqlnInIx92xMsOlp2cHIdaNuznyvTp5cAs/9rF4rZ1eKzVXV3a+8FBwXF+/pO2ay3FyQIIwHn6PfU4NseQ0BCwEBAZSI50BzjT0Tz+Pr6bsZ29epV3/yff5718//SplbXVDsiqdChj4uVY19X1p7SQ5QAll0sZuWXSm4jCdDG2qZswADxzlFTwr+gRECCeJz3GsG3PfqGhIABQF4ANihNvm0hhA0GZWzjxo6Nr66udkLo4JyiYNqJg3tHdXfoWd2hkyXr4uBkhxCCtjBCdWUFq71dw26VX628d6eW3Si/ZtO/v9sRD7FoR0To2BRKACQI7UAAoNcAljg29cRuEgIGAHkBKE3h2w7CuMBgPXTo0A3YcPvSpUsBtbW1dri8efPKoAvnz4i4Y8vLyzs6ODjc5W736NHjlJONdfFQ98AcNDbCyoh8vAeCMGZw3oYYwHVTFgMkBPQMalSRkUqtLIn2wg3mIpHoid4TlH9CEPrBHMQACQE9UllZabdu3bpYZKLybQth2qDkCZ6nXbt2RfBtC0GYGhADwcHBGWg4ZIp5XiQE9Mjy5cuXoYUwzdIIfYJ21YWFhe7YIAjI+0QQugcrGKIDIcq/Te2cTkJAT+CknJmZGZSdnR3Ity2EaYPfGncd4pO8AgShezD4I/yGMJypeXlJCOiJJUuWrKQ1rwlDgIoU7npKSko4eQUIQj8gLIAJnqmVFZIQ0AMlJSUuOBnTzIwwBGfPnh2ofpu8AgShPyAAAgMDs7FgHBLB+bZHF5AQ0ANIEFSxjm87CPNAPTQAyCtAEPoF+QJYlwAhArQm5tue9kJCQMcgcQsnYsoNIAwFBv3G95FXgCD0B6oHFi1atBqVOhAFfNvTXkgI6BiIALiLTC2rlBAmKFHFYlaN78fvMC0tLRTuSz7sIghTZ/r06dtWr169yBS8byQEdAzCAtRKmDAUjcMC6iBhlYQAQegPrtlQbm6uH9+2tAcSAjoEyhChAVNJICGET1NhAfV98AyooGWFCUIPwBOAMIGx/89ICOiQ5OTkKBXJfNtBmA+NKwYag1wBYz5BEYTQgQcYjYbgfTPWcnESAjoEqtDUGk0QwkZbaACQV4Ag9As8AhABWFcmLi4ukW972gIJAR2BEzLUIH4UfNtCmA/aQgMc5BUgCP2CCgJ4BZBAaIyJ4iQEdARlaBOGRlPFQGPIK0AQ+gWDP87/mzdvnrN48eJVfNvTWkgI6IjDhw+PpvwAwpBoCwvAO4WkVXd390JHR8cyXBrSNoIwN7DAHFYoJCFgpqBSAP2nTaGxBGE8YKaPmQgGeWQvOzs7l+L2woUL11y4cKEf3/YRhDmBsDA2jAXGtlQxCQEdgEVfcCI21oxRwjiZN2/eBmyN70f1CoWqCMLwwCugIoaEgBkCBTh69OjDfNtBEAAhKogBEgIEYViQh7NgwYK1yN8xpjUISAjogN27d09Ghym+7SAIgJMRugoikdAYM5gJwliBVxiVA0ga5EoJ8T9EPg+2pjx4QoCEgA7AssNUNkgIBZyMIAa2bds23VjrmgnC2ECIGIP+b7/91vn9999/FxNEeIu5/QgfkxAwUfDF48RrTG4gwvRBeAA90EkIEIT+QKK4n59fblMVPOoiAAi5coeEQDvBD0DIXzBhnnDJq5il0NoXBKEf8B9DLk5zHT6Bj4/PSUPY1BZICLQTEgKEUFm/fv18U1gZjSCEDLoKor0wvAPajhPyOEFCoJ2UlpY6o36bbzsIojGmsjIaQQgZJOQi9p+YmBin7TgSAiYMPALUUZAQKqawMhpBCJ3mvAL475EQMGEoNEAIGVNYGY0ghE5zXgGhjxEkBNoJlQ4SQsfYV0YjCGNAm1eAhIAJAxGAEyu5XAkhg98owlerV69ehFAB3/YQhCmC/9myZcuWo5lX431CrhgAJAQIwgyA2xJeASonJAj9gfDbunXrYhsvD04eARMGLiDyBhDGAH6naIMdERGxKyMjI5gaYBGE7sH/DCECrDegfj8JAROGerkTxgRyWWJjY9fhJEVrYxCEfoD3DWE4zisg9IoBQEKAIMyIOXPmbD58+PBoLIqC63zbQxCmRmOvgNBFACAh0A7II0AYI+g4GBgYmI1cAWM4SRGEMaAaD3xra2vtqqurnTw9PR26d+9efePGDRvVGIF1B97jjuvTp0+OjY0NBo88Hs19DBIC7YByBAhjBL/ZrVu3zlCxNTs7O5B+wwTROjDoK5XK0KKiopDKykoXbI2PGT58OEtLS8NV38OHD/s29Tx2dnYlEARubm7pIpEoDbf1a3nTkBAgCDMEngC4L7EWAUQB3/YQhJCpq6uz5AZ+XDY18Ddm6NCh7Pjx48zBwUHjMZyIKCwsDMdt1bGFEAQQBi4uLpkWFhYGEekkBFpJSUlJEHc9Ly8vyNbW9uF9+NLg9uHLNoJoDWgwBK8WxAAlDxLEk2CAPnnyZBQ3ULcG1XjAxo0bh/4CLX5MeXm5O7acnJz6DoUQBYMGDdru6+u7ubWv3xpICGgAsR4ov+KSUun169e9Kyoq+t+uqe7q2Lvfw7Krpzt0srCysrqfdiBjMm7/8Xsdu371sp2Vtc2v9vb253v06HHK1cU5FV+mpaUllWsRgoNLGCQxQBCPwLn/4MGDKxECaM/zuLs3uzpxs3Zgy8rKWjR27NglqufTy+JhJATUgBLDh36moDCqrKzMw6mf651uTn269vMRsUF23VknK2scZscdHzCx6ee5c7um663KG77VlRW+x06dCd+zd18nR0fHAk8P92SIArh/DPOOCKJ5IAYqKyvtkOVMnQcJc+bSpUsBEADqnl8hgLFp+/btu+BxhiBA2ECXz2/2QgDxmZycowsLCgtefuoZi449+rh26ucT2Om5Xn2xu1NbnhOCAZuD6jlcPH274r7yyxd9i0qVHjnHji+//3vdXQ93j68CAvzX8JUcQhDqoCPae2rwbQ9BGBIMtBAAbQkBGBIIleTk5AxMKCEIdFV5YLZCACUeGZmHPzynUEx28XrOxn9CJLPqYqu314MoUG0qYRHc6fatKnalRDH/s02bXxkgFu8ODhr9DspJ9PbiBNEC3msE3/YQhCGAAPjhhx8W821Ha+BCBkOHDt0QEhKyoL1JhWYnBBD7P/JD1vunT5+OcvMZ3nnsjOgOhrYBgsNt8FBsNqVn8qbJ/v2fSX6+vusDAwNWUS4BwSecCEBpIXIGTKO0UGmRGhP1fphMvgS3JImK97NiRcsMakJqzMinwmRHVC+eq8iKHSVirEbb4cp1I14Vx8k/U1l7Nzox+f8lxYo+NJSp5gLGArjb2xsGsLHrzp51FbNOna2Yrb0js7Syrr+vMXdu17BblTfqr98su8zu3bsDT3H99bZy/PjxechjiIyMjGjPZNJshADKP+TZ2YuPHz8R28/DxzJo2quWTz/D/9t39vTt0HegVwdl3o+xn67fEBMYEPCPYcOG/stQZSME0RgIgW3btk0PDg7OQGmhsS+zrVwX9SdOBBgf8o6yOHFCPlN0Mbh4MWEweEIEtKQMsDEYNxz7urKefV1Um2uLPclcyBg4PAg913Pv7h12pVjBrl0qqb9E0nlrQLggKSkpd9asWdK2hgr4HwkNAOI/O776Ot2+j6v9qKlR1h06tin0rzfwwxowRGLpOniIpeKE/L1TmzZHR7780njKHyD4AqWF6DWARYqwtGp4eLhespX1T6plQpy8fgDlxRPQRkSxWRvvx7KNnGdAvmPfJGVs7JrmPAlE8yAPYPfu3ZvgEWjN4/oN9GJOLqJ6EaDLSSTGIzw3NnDtYjH7paiQXTib3+LnQKj7s88+y548efJcLy+vba21weSFANw+qd8d2OYdPNGxKXeNkMAPwjMw2Lqq4pp4246vsyaGhU6lvgQEX/j6+uZhpUKUFubl5fkad96A5O60CaL9fFvRWkQTpmVK4uQ35XwbYiIgFwA5Aa15zLMuYjZwqITZ2vfUl1mP0bPe2+DKBg6RsHx5BvLJWvQ4eL137ty59ZdffvFH3kBrXtOkhYA8O3vJqZ8LFw4NnWonNC+ANvCD8xs3ude+9L17/Ly9Phg+bNja5h9FELoHyxXv2rUrAiJAKpWmIlRgaksYK1PXjU1YsSNeJpeHPLxTIimMnrY0OT5W+rHuZ+H1OQsfrJDJ56kG+G4QKZLoaduXxseukYpY09NA+ZkBquHAmjwCbQdeAJWgndPS4+G+HzhkxGNufEOCkMPwkHCmmhiqBMGh+nyCloBmRPB2wDvQ0tcySSEAZbQ/NW1Tze9PhQVMjOzKtz1tAbGkYaFTHQpyMt8tr0j3CgsNeY1vmwjzBUIgLS0tFIsVoddAaGhoGt826YLUmBEfNJk/IJe7y+RhK2U7Eqe1JLmv5ZyxSBgRlyKTsyC1F+sol8lfCZPtiIzenzU3Scq+1M1rERzwArRUBMBz7On/fL0nQAhgYjhi0vR6IXDyyHesuiHhUBt4r0g8b6lnwOSEAJTQF1u3HXFwGejm4eHTmW972gPiUINGjLMrzj8x47+fb/GaOWP6aEoiJPgCgz/CBQgVJCUlxWAVQ8Gvvqk810s1xe7CmNe9ASJW/Ni+1JiRD0SA5G70/uTXk6Si/zY86FGVgTzOLyE1drLOBme5bLCMIV9h/wfJsdIP6gWGMrVfTFRYskwuD5KFxcjC7ycdkDJ2TSevR7D8/PzpLS0PxODvFyxlQvQgwzMR/FIU+ykzjf2iLGj2eHgGevfufbQlOQMmJQTgCYAIcPYJ9OLLnaMPXL2GdL5u2933y63bDv/pldn+fNtDmC8Y+FNTU6UpKSnh8A7ExMQkLV68eBXfdrWF1BRZBC4licmrHokAIKqTJiW/m5gv9oqTs0n555QDmVSks9d9ImlRJL2QlKV4wXOE+Js4uWzSinXxb0q5/aIBl70YuyVnzF5nBpgRqA5ASKAlx6Kk20sSrG+T2gUmh0PHTmQ2tt3Y2RPNZ47gvSPpvLlcM5MSAggHwBNgSiKAo0df147VVTcG709L/4zCBATfoIoAHoLly5cv8/DwKIB3ICgoKJNvu55AcaZXfRxe4pkrbuTelybd/9v9JPY3wxoUXbM0VvTJk/eL6mKXRq+JC5NNerxCQFznKWEnmTw/5JySuar0CHkKWgjXJwATRG3HYXB9LiiU9RZ5GMq0duM+dASzdejJcjNS68sPNYH3js9AJdj9tPUZMBkhgMRA5AQYezhAG/AMnDqcNjU3Ny/Hz8/333zbQ5g3aDa0cuXKJVFRUcnz589fn5ycHIXbggkXwOUeJvsCVyXTJuzRHudXWiiVCrFCwVzOpaSM25EvGy2XsyE6tyk6/HuNbn+x52UJYzfljyUGiuomTJOkxMnlk+Ki1q0fkBz7J40JhcRDuAGwuT4BCAEEhr3Eujn2MpBlugNhDKsXbdmP6SkM3Wo1gdJCfBaq/2mwptCySQgBhUL54s9nle8MC51qlImBrcFr5DjbH9N2ftCjh8NpKi0khAD6DaDMcPPmzXPQhCgyMnL7vHnzNvApCBp15ovX1JlPmRoTErVC9g+9DPo6Aj0FFCymLiouLjFMHHfamPoh8MXhw4eXNdcxEJ4AYxUBHEgkxHv4364tWj0DaDq0b9++9ZoqCYxeCEDxpR848B//CZHCbhKgI/Dj9Q2e6LB3/+6d06e9NIKaDhFCAasYImSQmJgYh/wBXF+0aNFqwXgIGpMaM1IcJmuofpDclUi8cry8PPM9wwdkThCLc/dFif+JHAF+jSRaC2bASJRr7jifUS8YtQjgQJUDEhzhGdAGKgn8/f3XNdV90KiFANw/SKBTDYw9hJjlqS9QWjjQP6jXzl0pe6JemT2MKgkIoYAeAyg1RALhhg0b5vn5+eUilwDdCQ3Zqri+M9+E1AMx4rAjaNHLBty//Hjmv9Ji3QrZQlxreoat1M+5UZbyQmqStGeT4QEN+QwPvRuS6NP7k5Oep9CAduANaC4vAImBXCc/UwBhAs/hz7MzP/5P63Eoo0Qr4sb3G7UQOHbs+Ft2Tn3thd4xUB9AyXa26+GKzyAwMIAWJCEEBfIHsLQxNi5kEBAQkAMPAUoQDWIEsvH3R8+ShcmOyFaseydeGrv7UZ6AwuKMnPloTN5LTQjYIWcjdW+UzDolNWmc9IlyRDVh8lg+w6MWydFLk1aRCNAOqgSwEI+2Y5BM7uk/ylAmGQyxnz+runFda2khVixEi2V3d/fH3AdGKwTg/jmRl/e3YSFTrfm2hS/cfIZbZ337xRJapIgQMggZYMNCRuhBAM8Ayg4N0pSoyQQ8dWTWYTHhSYok6ewH+5QWqesSXl8RJ/vHg65/ukcWNmITS0zuFR8rWv94HwE0GWokTB72QZDc9RSzIn3YY0rAG6BtP7ypw0MidLpWgJBA9UNVeZnWpkP4jExGCGAp4V4iTwduNSdzBO/dyVncibwChDGAhYywoQfBunXrYlFpgNsQBXoLG2isw5fWxidKlsvgcpeFhYtlrPqx3ZLE3P3TdiwLi5N/JD+j8FY90cNdqTFP/V+YjP2VRe9PuZ8kjWiVPZLo09FMVoFwhSyOJTTaeTdRkTS26aqCJhoiEY8BbwBmu9qOGRwYLMhmQbriQSmklP0v5QuNx3Cfk7oYMEohAG9AQUFBZNC0V43Sfl0iHiKxlu/+YvHgwV5b2rMeNUEYCiQRYispKXHhljtGQiEEAYQBwgqGsKM+G39AzC+PVQ1gjYGlySvrGwylnhnJmEpC5J9zVjKpjvr8e9bFZynCw2OiFj2+1sDSL5KTpG/TWgJtJz09XeuaLMiwN6ZeAW0FYWPkDGhbrAi5AiKRKI3zJBvlQApvgIvXc1am6t5pDVC3fd29bfGZSENDovm2hyBaCrwASCrElpOTgzXVYxYsWLAWIgGiADkF+rZBJE1Kz1JtTe6UJv1w/37SU0/eff9vCs8RP4vPtKKioNFziZKy/i5NYn9vi83Ek2CG21y5IFYQNBfwXrUJgfLycne0Xvb19d2M20Y3ksKtUXzh4pSACdOMznZ94eLpa5G5Y2PkqJEj3iWvAGGMYNDHhg6F8BJAEKj+605oVgQvAXoVtO8V8jvosjOf4ox8kMRTfEoXz0W0n7Nnz07Wth/eAKEsImQIuPerTQz8/PPPkUYrBPLyTkY7ug6wJ2/AI/BZ9B4wyOrY8eNvBQcFLeXbHoJoKwgLcMmFCB2g4iAiImJXbW2tJZILQ0JC0nHZ8vAB16JX3m/HPmVYbKzoaLuNVK7rv0ImmTVNIdI6+OgC5b4dQZpaJBOPaC43AHX25gb6JJRdLGZ//F7X5H54UFBmifCA0Y2mBYUFL/tPiOTbDMHh5CK2+Pl/aTNJCBCmAkIH7zUAUYBlkNHGGJUHWNeAEwXaEw0fteiVx4nffSqOvdveznwYnL0Skz+MFbH2iwpNr/GwM+IDmm+RbL7AS4x1BTTtx8wYM2RzA8nk6JVQcqbpal2IAJQTImnQqIQA4hpPPWPR0aqLLd+mCA780Ktrqh2RSEnhAcLUwGCPtsXY4B2AKEhPTw9ZvXr1IngHkFcwefLk3U3lFTxq0StL1EVJIJ4vqb1P0mIkdyWJSz9MjhWtMdhLGhnNeQOcXHS3cqSx0bOvi0YhAIqKikKMTggUFBS+pJr5duTbDqHi2Lf/H1B4XNyHIEwRbuDHhtuqgcAdJYnIK8B1iAF/f/+j8BrgOo4XxSb9N0u18W17S6nvjBjLNvJthzFQWlo6Wtv+Z13NJzegMY59XetDx5rCAxgvcGlUQkChVE7t5xOotXWkOdPT2c3mTEHBn0gIEOYEEgm56oPKyko7VCBgwxLJuMR+Thzgsv2Jh4RQQEhAW7UAugiact+A5oAIwGdw7WLTLSiwVg9CK0YjBPCFV1RUiH0dn+XbFMEC9ZeXmRbIJYDwbQ9BGBqsdYC8AfWuhXl5eb4QBIcPHx6NUAKqEeAt4IQBrvNoMtEOuBmtJsw5LMDxrOoz0CQEAEIrRiME8IWrlM3vgq0WKP6Offnpapaw5VGI0nv2Ghb9xptshKthTKhXf069aqGQ0SzCMK9KEMIGaxtgQ34BbsNrkJmZGXT06FF/eA3Q0Ig7ZuDAgWe5UkZDNTYi2g5i3Nr2C6lk8OKhT1jy2oVs53HungA2dfkiFhU9nvXV4+v27Kt9APrll1/8BTqqPklxSam0m1Ofrnzb0TTfsRWSCLaz0b2ntixkb235hsXLD7KZBhIDdo597EpKS8eSECCIpoHXQD3HAMBrgO3s2bMDuZACuh1CHPj4+JzEJRIWDbZgEtEi4NbWtA+L0QklsfyibCx7cVnjPNYctnOZatzY8yr7156P2Qg9vTY+AySTV1U03ULDqEID169f9+7nI0Q3TxH7clKDCBi6hv3rowYPADwEf4lgCcdzWMJfPmGj9rypV9XHYdOtO7tWXDDEAC9FECYD5xFQvw8li5xAQNkid5sTBZxAgLAgDwI/IMataZ+tg6MBLdFC8Sdsab0ICGBTv5CxpWPcGu5vmEAe38jeip/EchPG680Eh179NAoBVJoZRAigDhhxuPbE4ioqKvoPEuJyw8VpLL3e1QNV9+YjVec6ns3cs4udfxZf9EKWfOhN1Q9A/+Z0sbNniorygfp/JYIwbTDYY1P3HACIAU4UQCBwCYooa8Q5DoIA+QcQCJxQIE+C7sEApq1/gI2tXhaPbDVZny5kaEHpvVxNBADVGLFUvoYpJKr9W/awLJUQ0JdXwMZO+2dhECGAPwvcbXC14U8VGRm5vTWiAMlvd+7UWhlspcGGeH/6lhz2oIdoAPOevYitUH1RF+Kt2VtbmErZ1dQP7Be//+bBMbMnNfEljmdRywPYTpUaVCiLGFP/EegJqy5d2a9VVebXPYMgDATnPWgsEAByDyAIIAxKS0udd+/ePRlCAaIBAoHzHEAo4HjuPIhKBpwfDfxWjBr0ldG2v4s+J46tGCNGJNSoZvsansdVzJDFoO9e1c01VDJoaADZuhs2bJiHrTWiAMqvs5U13G42ejey+BMWJVnY6ItRfdlbItiLhWtYfKOf3gXFg7jPVGnTbp2+Is8Hj9+Txi5G6z88gIRBfFZwmalmIiV6fjmCINTgzmXqVQscnEDgLnEfJki4RP8DnB85sYD7IA4cHR3L1O9Tv27uaAsLgE5WehouWjlGaOXQnoawsjvrp0sbG9FcrgRvOQKtEQUNQqDpjgg6BTGbhi946KvsXx993JDxX8SyZNHsrWULWcJx9eOLWGlzFcmu7syb6V/xEQQhbDCIaxMKQF0kcOKgqqrKlhMM6vuB+vly9OjRh7nrXFijqePMhQ6d9NE/oLVjhGYuHnqbLZ31oGfU1AX6nSQ2500XRLJgc6IAoQFDlA1elK1uyPxvnMXpxkZEH2TfssaZn0XsfP2XHsD6N1cVcLyQXVBdGCJh8BkLiz/wmRngpQiC0CHqYqElgzdCEU1dR88EhGS52yiRVH+Nxl4F9XCFOpqSIIWQHNncOU4fjYRaP0Y8SVZD6OABASz+i4NspgHyx7RhgdaciF/p80UQI2vpsU2JApXSPatP+zg4N7/38rgmkzb6Ri9iU5c9WSYoNCw7W/8BL4qDgwN1UCMIE0ZdLLR01t/Yq6DpPrBu3bpY7Gt8Pxfi0PQaOHe3toMjHoM+Di09Hv1SSktLH952cXGp3zie0cPksf1jRBErRT7BUNXV48gvyGEJs8ay8180SiQ0MILwCAiDR25+sUjTFzKeBc9mbOcWDbsJgiAEjrrXQR1N4Yq2gAkdQhv6fow2ftfQX7/t6GKMcGMzEw6ymQ230GRo6ayFbOcsb8Yakgv5wKJxYw19wJXYtOTYpkIDUH5pBzKaeaSuaIGb/yFurH+DsjuPDo7aHqfnZBB1an+reZpWICQIgi9wHtd3FcTx48fn7du3T+uCQ/qhNWOEdvqOeZOtWP5NfThh59pPWNQYw/SbaYwgPALNJQuib76m1ZN0TwsG9Ye4MWfoV23JIcWFBk8U/L2u7mlaa4AgCFOGv3Nca8aI5un7whTmrRICp/SYR3bv7h2t+3kTAq0pH8Ts9rfbNXq29dGgrrnm/8kqgX5ihNVUai71O7Z0zJMlhBeVZ+ovvSeF8qL0CIIgTBFLS8tKbfubG/xaT1vGCHSe9a6vJJjKo+v/3h3tmsmgQqCtDYUahIDes+BHSF9lbMtGdmpZIsuKbqL386HEJ0pDHqq5JjtDfceSGzJINceUdAs8J/isqIcAQRCmTHNCoPpmRbONdFpL68eIR+JB02SR6zzYdFM63XDndo3W/QYRAlFRUcntaTEMF1CnTpa3VW+mq167C46JY/FDN6q+yI3srUmMxX8Ux2a6PhjA1Ws+H8M1lIUMVX2RDY95WFfasNYAtwZBlIGU4O1bv7KutrZNN5UmCIIwEZqrisK5UOe0YYwY8cYa5r1lYX3DoSi2q7774APvcBHLio9uKCUMYPFv6G+tgVuVN7TuN9haA+19Dnt7+/OqN+Or3zbDbg/WB5j0YCGIBIlqe2z/q2zq7I2NMkJVj/loDUuXNIgBSeMfguoL/shwCSC3KiuYg72DQcotCYIg+AKeYkwSNfUTuF2tByHQljHC9U224otC9qJKJNR3H3yiouDBYkT6XKG2ukoAQkAX9OjR41R1ZYWvQy99D6nj2dI9p1iwLJHJ9qi+uAY3j/fsNSol9ya7EL/xyRpR1RedLBfX955O2PKomQQeE/1Gw2qEBqL65g3Ws2ePE4Z7RYIgCH6AV0DTUsTXLhbr6VVbP0b0HfMxy5VPYiv+slolILgxAusTTDHIGFFVrtlJjBCL0QgBVxfn1GOnzoS7ePp21f+roUvUx/VbYy5oeghWG0zAplfDmqWy7FKl38jAg/xaQRAEoX+QC6VJCNy+VcWqK28wG70sPtS2MWLpHtWmB2u0gbyx8ssXNe53cnLKMxohIBKJ0lLT0p/BmzJEu2FjpP4Lv3rZ0sXFJZNvWwiCIPSNs7Pz4cLCwnBN+68UK5jYz9+QJgkOfAbayu/d3NzSjWZEhfvC3t5ecaPsigHCA8ZJ2cVi/DGyqYcAQRDmgLu7e0p6evpaTfuvXSo2eyFw7VKJ1v2YZBuNEABikWjnL7+UuKuEAC2o0wTXSouqfTzc/8u3HQRBEIYAoQHkCZSXlzfZmlg1cazvJ6CPBYiMAXgC4BHQBD4/owoNAA8P969PbN0W7z5sFAmBJii7eP5p0YTxOusXThAEIXQwo9UkBDAQXrtwnvUWeRjaLEHACSFN4LPDpVEJASi/+7/X3UUSiFUXW15sGJFQw3J5TghsiqqKa8zG2qaM1hggCMKcGDhw4O6cnJw4Tft/KTprUCEgpDHilyLtC0AiPwCXRiUEgIe7x1dXShTz3QYP5dsUQXG1RFHn4eH+Jd92EARBGJI+ffrkIIestra2yYXtVONF/URJ110GhQ66CV44m69xP3LJjNIjAHx9fWTffLt3mqunrz1VDzwA7q9fzv18e8Lrf/4X37YQBEEYEm5Ay8/Pn67pmLPH5Wx4iMbiApNEkfej1moBCCgusdzoRlIkNrj26/tNyZm8uf0HDzU6+/WB6rOo8/Dw2E5hAYIgzJFBgwZt1yYE4BXA9qyL2JBm8QY8IEWntS2L++Az464b5UA6auSId2X//k8kmguZu1cAiSAXC09VvTZ3zrt820IQBMEHKCPEJFFTcyEAr4C5CAG8V21g0ujr67uZu22UoyjeBGbA5BVgTHFCXjN86NBV5A0gCMKcCQkJWZCcnJyhaT9myebgFeDepzbGjh27RL3fjNEOovAKbP58y6Tebh5O+l2ISLggGeRqqeLOtEkhlBtAEIRZg46q8Axo6zR45uj/mEOvfibbVwA5AfnyQ1qPgedE3RsAjFYIYAY8xNf3/4pO/vieZ2CwWSoB1XuvCfQPWEmdBAmCIBgbPXr0cm1CAGsPHD+whwWGvWRIswzGaXmG1nUFAD6jxvcZrRAAw4YN/Vfuv//zturLtdbPwhLC5WbZZfZb5fXiYeQNIAiCqAez3ea8AliV8MyP/2Oew583pGl6B8mBJWfytB7DfT6N7zdqIYCZ8MwZ00dv2brtR/8JkT1M1d3TGIQEzh7NvDx92kuTyBtAEATxCOQKKJXK0Lq6Oo0daBW5R1m3ns+aTL4AvAD5co3pEQ+ZMGHC/KbuN2ohANArOWTcuD9nHtq7aVjoVJN3CyAGlJext3xiWOhUvHe+7SEIghASOC8OHTp0g7Zug+D4gb3s+YhZRt9oCJ12f0zf1exxXl5e29A7oKl9Ri8EgFgs+vZ6+fUPC3IyFnsEBHfl2x59kv/Dgarhz/n9XdMXShAEYe4gK/7SpUsB2DQdg0nVj+kp9fkCxhpahgjI2rNd63oCAO35J0+ePFfTfpMQAkASGLiyfM9e79KCk5OdPXw6822PPijOP/Gbg631Tj8/33/zbQtBEIRQQch06tSpMz777LPs6upqJ03HYSD9364tzC9YanRhAoQD4AloTgSg/fKsWbOk2sLIJiMEQJg0dG7y51uOWdt293Lo1Zdvc3TK9YvFd29dKT0d8crs1/i2hSAIQuggRBAZGRmB3gLa8gUwkMIzgORBsZ+/IU1sM0gKPHnk+2aPw+CPz6C5MLJJCQG86Vkzpo/6Yuu2IzVVN9xMxTMATwBEABIj+baFIAjCWEAIFcmD+/btW9/csagkqLpxnT0XFMqE2rEW4QyUCDZXHcCB947+Cs0dJ8x32w7gBol6Zfaw/alpmwpyMsKMOWcAX3pBTmZlN+tO35AngCAIovUgcbCiomJgc8mD4BdlAau+WcG8JGOY0LzKKBk/nZ1Rf9kS8L6xteRYkxMCAJ6BFydNnCHPzl6Ss3f7wiHjw+2MrbQQJYKoDvDz9vpg+LBha/m2hyAIwlhB8mB5ebk7ygqbOxYterP2bGM9+7oyT//nea8qQBMkdERsrm2wOliNEd6Alh5vkkKAAwmEvZ59Njs1bee2wc+HOhpLZih+iAVZBy6jRJCqAwiCINpHfdh41ixpenr62pZ4BgAaD2HrLfJgnsNHMasutvo28zEwGUS44sLZ/FY9Dl4AiIDW9JgxaSEAEB95eUp40I6vvk637+Nq399nuLVQvQNIWsEiQrfKr6BZ0HjqE0AQBKE7MED27t376O7duzdpSyBUB+ECbC6evqxnXxe9VxdAfFwpUdYLAISHWwoGfry/loYDHntsax9gjKCGMvr1Pw+UZ2cvPrIzObafh49l/8FDLIWSEIIvW5n3Y+2lc/m1gQEB/0DbYOoYSBAEoXvQWAeTrO3bt+/SVlrYGCToYcNEsme//uxZZ7f6y/ZOLDHzh9v/2sUSVqYSAa0Z/DmQG4fqgJYkBjaFMEZCA4CB9flRo94bPmxY4pEfst7P3LExys1neGdnT98OfNpVeibvXtHJH3/z8/Vd/+L8eavwhfJpD0EQhKmDkGtMTIwfxIC2pkNNAc8t5yUA8BB0te9RHzrAZuvQU6M4wCB/o+xKff+C6qob7NqF4vpQcHvA+gEtKRHUhtkIAQ4MtC+MG/uXwAD/DzIyD394cKtssovXczb4Mg0VA8KPAAqwJP+n6gFi8e7o1//8DlZTNMiLEwRBEPUr2EZFRQWjtDAvL29OW58H5/LWJPLpEiwnjHBAeyeQZicEOPAjmDRxwuzKykqXnJyjC4/u2/7yU89YdOzRx7WTo7Ook65LR9AFqqxUeef6peI793+vu+vh7vHVa3PnrKE8AIIgCH6Apxitd4cMGZJ08ODBlSUlJUF829QS4NFAJURbQwGNMVshwIGBODQ05A1sXHnJmZPZUce+S/Fw6ud6p5tTn642dvasi1131snKukXPiZjPrcobrLqygt28eunXqxeKOzk6OhZ4ergnh4zyT0POgp7fFkEQBNFCMLDCO4DzPwTB1atXffm2qSkwdkAANLWUcHsweyGgDj5kbAEBAYm1tbV2+FEUl5RKL5Se866oqOh/u6a6q2Pvfg9dMOfOFlpYWVnd79O33++4jfjP9auX7aysbX61t7c/36NHj1PDvD1TRVNeTKPYP0EQhLBB/T22/Pz86RAE8BjzbROABxsCAKEAfTw/CQENYOBGdik29fvVXUfFisKZN66XWf95blT9IkBwM1HdP0EQhHHDnfuRO3D27NnJmBS2tNxQnczMTBYUFNRmOyBKBg4cuBsCQJ+VZCQEWol6TMbDw8Pl8OHDo3UVpyEIgiCEAwZgbBABEANFRUUhuGyJp0A1aWy1EMDMH4O/m5tbOtz/hiojJyHQDuzs7FS/h0o7vu0gCIIg9AcGZAzMXGyeyyeDMICXuLG3oLq6mn399dfNPi8GfoSjnZ2dD+O5UQqop7egFRIC7YCEAEEQhPmhnk+G2xAC6EcATwG2RYsWzVKJARH2jR49ern6Y5Ggjg1hZKE0jiMh0A5U6u2qihZ3piIIgiBMDwzoXIg4MTEx7scffxRx+4KCgt7jy66WQkKgHVhaWtaqaHUCCUEQBGF65OTkBCxZsmSl+n0YIzBW8GVTSyAh0A7gEUBowBi+aIIgCEJ/YCyYMWPG1saTQ3iNXVxcSngyq0WQEGgHGPzxBRcWFrr7+vrykuRBEARB8M/8+fPXl5SUuPBtR1sgIdBOAgICcuAOIiFAEARhnmzevHnOtm3bpvNtR1shIdBOfHx8Tqrw4dsOgiAIwvDAIwxvAN92tAcSAu0EHoGkpKQYvu0gCIIgDAvyASIiInYZe9I4CYF24u7uXoi4ECUMEgRBmBfwBMAjwLcd7YWEQDvB4I/8AOQJBAUFZfJtD0EQBKF/UlJSwpEbwLcduoCEgA6IiopKVhFFQoAgCML0gRd47ty5m/i2Q1eQENAB06dP37ZgwYK169evn0/hAULXcG1LcV199UsO9CfHapm0+iVBGAb0DAgPD0+BV8AU2syTENABGPzxo0D5yJw5czbzbQ9hvKBneWFhYbhCWTT1ypUrQ65fK3O16Wpbbd3Ftg777Zz6PHHSKTr2U9W9O3fu//F7Hbt+9bKdlbXNr45OjmcGiETbsZAJ+pob/I0QhAmDcPCmTZvmYoMY2L179+Qvv/xy5t27dzvybVtbICGgIxAeWL58+TISAkRrwWwfg/85pTLyQmnp0N6u4tv2vV26DhL7MFv7njjEppmnsFW/ced2TdeqimsBRZdK/LKyN/9/HTpY/DpAJN7t7j5wBy2ZTRC6BZNAziuAcWD79u2REAfGtA4NCQEdgfwALoMUlQR820MIG8z8jxz54b3TP+e/cu9eXVcnF3EHp4F+nbzHTcHuru157k5W1qynlSvr2de106DA4E7VlTdsyi6en592IGNGZfm1Tv1FbhljgoL+htXTdPNuCMJ8QaI4csRSU1Ol8A5jLECYODMzMwiiwBjCxSQEdMjKlSuXYMGJXbt2RfBtCyFcsrNz3sk+mrOkj9jL6rlx4ZY2dt31+np4fmxug4fa3bt7h127cD5sy9ZtI5379v3uhXFj38aa6Ho1gCBMFHgCMAHEOb/xgA9BYCwJ5CQEdAhcRKtXr14EhYhGQ3zbQwiL/Pz86d8fOPCxo7O484gXZ1lj5m5oOnTsxHqLPLB1vXA2/yXZv/8z3sPDY3tw0OiFSDg0uEEEYaSgdwwWGVq7du0CoS8q1BwkBHQMXEIoK8nNzfXj2xZCGCiVytDvvj/waWfb7vb+EyK7WnWxbf5BBqDfQC/WR+TeteRM3txP12942c/XN2nUqJHvofqAb9sIQshwIiA2Nnadscz6tUFCQMcgmxQ5AqggQFkh3/YQ/PLdgYOfll66PGPQ86F2DYl/guLpZyxY/8FDLfoOHGxXfPpE7GebNk+ZNWP68xQuIIim4URATExMUmhoaBrf9ugCEgJ6AK6i4ODgDPxI7OzsyN1qhqhOFnbf7ErZ3ambo9+w0Kld+LanORAyGDBEYlnlIhJv/nxLbvikiRHUk4AgHscURQAgIaAHnJycriJxECECShw0P1AO+PWulNQ+Hn5uqAbg257WAK/FsJCpTvvS9+6RDB/218GDvT7n2yaCEAJIDMQ53dREACAhoCeQOJiXl+f7XgN820MYBnT+25uatmPw86E9hBgKaAlIYhwWOtXhxOG0dRd/+SUoLDTkNb5tIgg+QVk4RMCyZcuWm5oIACQE9AgEAJaoRHMJCAO+7SH0y0+5uW/8eCLvH/4TIu3gajdmkDvgO2Zit+L8EzP++/kWr5kzpo+mJELCHMH5G9Vg6CJoqj1iSAjoGfx4pFJpKn5ApvojIh54AiACAiZGGn3fcXVcvYZ0vtzZyu8blZyd9vJLoXzbQxCGBJO5kydP+qBZkCnne5EQ0DP48UAMwK20devWGcZeb0o8CXICEA6AJ4BvW/RBLzePDgXXrwbKs7OXSAIDV/JtD0HoG7QHxjnb39//qDnkeZEQMADwBEAE4IeFigKUGPJtE6Eb0Cr4y63bDvsGT+xh7OEAbXgEBHc9lrbznR4OPX4Wi0Xf8m0PQeiLVatWLU5KSopBTxhTzAdoChICBgKeAM4zQGLAdNjx1dfp/f0Cn9V3m2Ah4DtmYvcDaTtl3brZnaN1CghTAx1hsZw8GgQVFBR4GMMaAbqChIABgRiAmwk5A6aafWpOHMrI/LBDV4fnjK1EsK3A4+ETPMFx+1dfH3ht7hwvaklMmALoDYCVY7FIECZp5tgenoSAgUHOQEZGRjCqCVBeuHjx4lV820S0HrQNLiq9+Nqw0KnNLRFsUqA9sqv3sJ7f7tm7jZIHCWMGAmDDhg3z1q1bF4veANnZ2YF828QXJAR4AC4nZKFipcLAwMBsSiI0PrB2ANoG820HHyB58JjijD/EkEgkIq8WYVSgMVBiYmIc8gDQBh4CAE3g+LaLT0gI8Ai6DyIuBe8AFq+YM2fOZr5tIpqnsLAwvJNN1+7G2jBIFwwYNsruu+/TPlUJgf5820IQLYETAMnJyVEqkpEHYMolga2BhADPIB6FUAGSVNLT00MQozJ3dSpkUCXw3fcH1g8NnSqMJQR5AiIIYgiiyN3dnZplEYIFXQHh/k9LSwuFAMDKsCQAHoeEgADgeg1gxUIsVhQZGbkduQPmlLVqLBw7dvwthz6uXYSylDCfiJ6T2B7KSPsnCQFCaCD+j/Mp3P/wBMDjCg8sCYCmISEgIBCvQiUB3FceHh4FqCygcIFwgDcg+2jOkhEvzrLm2xYhAK+AnVPfntnZOe8EBgZ8yLc9BIFQK1z/aAuMc6m5VgG0FhICAgOKFW0t582btwHJhHBpQclSqSH/yLOzF/d28+iERXmIB7j5DLfO+vaLJcOGDf0XrUVA8EFJSYkLBn7M/nH+hPufZv+tg4SAQEGeAMIFKDGEIECdK9xb8BrwbZu5cuLEiTf9J0SSClADosjWvuczqCCgEAFhKHBe3L59eyQEAMIAWNQNPVpoPZe2QUJA4KADIUoN4fKCdwBJhVyFASUVGo7y8nL3p56x6Ei5AU/So5/ItqDw7CwSAoQ+waCPhGpc4tyHXCoa/HUDCQEjAXEubFgMA4IA/QfQCnPRokWr6Y+gfwoKCl9ychF35NsOIeLY15X979iR8XzbQZgWmPWj29/hw4dHI+Mf4dGQkJB05E7RJEi3kBAwMvAHQPwLfwZkxaIHAaoLEBeDe4waE+kHhVI5tZ9PoCXfdggRhAcsrazvq0Sqr+r3SWtoEG0CXk9u4Md1nMsw2cG5DU3XqIpKf5AQMFLwp0B4ABuUMzJlUXoIocCJAlLNuqG2ttaurKzM47leffk2RbD0dHazLigsfImEANESENdXH/hxCY8nBn6EPjHwU7Kf4SAhYAIgjwAbSmW48hkkFyJkgDgaXGrkKWg7aJrTy1V8T3VVkOsMXzz0CUte+w3beZyrkgpg3rOnsOg33mQjXA1jQ88+rhaKHzOnBgcFLTXMKxLGAsKZaOqDwf7kyZM+mLjgPgz8o0ePPgzvJpqq8W2nOUNCwMTgcgmwljb+eMisXb169SLsgyDAHw+qm7wFLae4pHRCN6c+glxcKCt+LHtrS+My6Rx2SnXfW1u+YVO/OMiWjtG/Hd0ce7HKqsp+1dXVTjY2NvTbMlMw4GPDYI+ZPq7jfkxKcO6BtxITFpqYCAsSAiYMBnxsuI5aWyTc7N69ezIqDyAEsA/JN7ik+JtmSkqKg/wHDefbjCc59HaDCAhQDfgy1YDv9uD+4u/Yl3+JYAnHc9jOWW+z4CsfsxEGMMfesde9S5cuBVD1gOnDzerhgSwtLXXG+QUTDwz42Hx8fE5ipo/rNOkQPiQEzAQocDQpwobbXEYuKhCQcIj9CC/gD8x5FUgcPOgmWFNTYye8ssEi9uXajfXXvJeriQDgOp7N3LOLnX82gu1kG1nGIZUQMIBXwMq2uzXKLPX/SoQhwCCPWD7OE1VVVbbc4I9ZPs4VGOD9/f2PcjN9cu8bLyQEzBQuryAuLi4Rtzl3HmJ4yC/gsnbVxQGuG1sCT7du3W6iCRNyJTjvSGvAwGbbzb5GddUwSgCz+U9Xs3TVTP9U/R2I9y9iKxLGswvx1uytLUw1+69RDfxF7PzxB/tDXnBr4onGs+DZjO3cgoqHIsbGNHWMbuls09XiZuVND72/ENFuMIPHhj78+N/jPrjycckJAG4ygIHe2dm5dPLkybsx+FO5sulBQoCoh3PpqXcubCwOcJ07QUAk4OSA6zg5QCTwab8mcKLbsGHDPGywE+8Ps5eW2qt6vItVl676NvMBxZ+wKMnCBgHAgXh/BHuxcA2Lf2yuPZ4tvaISBIaxrEXY2NmzC6XnvPm2w5xRH9i52fudO3c6YXDHfdiHY/D/xQZhD6GPfXDl45K8geYHCQFCI02JA67sh5tRILSAEw5OMFw8EDMI7vG4LZRZBOzEgk7YuIoKlF9qS1xC6aBFR8tn9G/dd2wFJwKGvsr+9dHHDRn/RSxLFs3eWraQJRxv3fNlbMGlJo+B7oFgqqqq7GOQFzMTuIEb17n/HK6rD+7cfxLXMbBzIhf/u4EDB561tbWt4gZ5Y/TqEfqHhADRKjBT0ORix+wDgy1iiriNxETc5mYmuI97LAZiR0fHMjyf+upgbXHfawInSE37YA+8HNhwcoSXAIKncWITsuA7drbSeyOhi7LVbGf9NZUI2KOe3OfGRkQfZN+ysezFZS1fRO3h8w2dwkYZqISQeBz13z2H+sAOuEQ77jb3H+Juqw/cnBcO19UH98b/IYJoLSQECJ3BeRC0DeacSOBOeEhCwmDM7UdTJO66uosSJ0Sc/Lh96jOfxjZwg7n6CVUbODljQzUF18kMDZnwGkgWfOrpZ/T+P7mgeHAe914e12SGf9/oRWzqsogGsdAMh95uEA0BLP6jN5mh2iB16GTJ7tTeEfSiTI0H2qbgfqON4RLmmtrHxdXV72vKE9b4d8wl2nG3Kcue4AMSAoRB4URCS2b+6ifXpmZS8Dg0fkxLTvTawCCAbe7cuZsgBgIDA2v6efq19elaSBErbRguxCJNbvxHyX9aUYmAqFmoJgio7yEw04DegA4dO7Ht27d1Tk9Py2j+6PajHg9vKS0ZaLnQVmO4hLmm9lFcnTBmSAgQgqW9IQO4XF1dXYtb+zi4YNF8CSd91ck94Gr1vdY+RRsJYP3bMXBflI195AmQG1YEcKi+MxYZGbncEK+lyStEEETrICFAEOzBTBEeACQQqg8umZmZAYazIoedh2xp9QBexLLiox82F+JLBNy+VcUGDBxYrss8D4Ig9A8JAcJsgceBW4tBU1WDpaVl5e83a+4wva4z4MackVJ2XFvN/6PwQeP7v5zk/aCiYGjjREOCIIjmISFAmBWY9aOtcktXZ4QQqLt7R+8LDo2QvsrYlo3s1LJElhXdxGB+KLGJ8kF4AjgRsIZ9u8dwiYFN8cfvv7NnLCzu8mgCQRBtgIQA0TSpMSOfCpMdYZLEXEVW7CgRYzV8m9QWEEfm4v24bG0NNRbQuftbTZ2+7HvImDgWP3SjalDfyN6axFj8R3FspusDz8DFQ2+zpbM2PvGQi+gvgORBAYgAcKuygjnYO5zl2QyCIFoJCQHCZMGM/+bNm93a+Rx5N8vLOurKJs24PVgfYFIE26kSAwkS1fbY/lfZ1Nkb1aoGvmPJXF+B4wvZi88u1PzUs3ex3ITxerFaHeQIdO/WjffGUQRBtA4SAoTJootyrnqPwJ07Hf/4vY7pv53AeLZ0zykWLEtksj0b2amGUID37DVsRcKb7EL8xkd9BA7taVlPAQNyu+rmbWeX3qeaP5IgCCFBQoAgmqF7d/uLtypvuNra9zTAq6GT4Mf1W2MuqN8Y8zHLvfLkMXxSU3njroODD3kECMLIICFAtAClRWpM1AcrZPJ5csa6MSa5K4metn1pfOwaqYjl822dvhkgFu++frH4LZUQoP+LBu7dvcNUYumZPn36UKtbnlCmrhubsGJHvEwuD3l4p0RSGD1taXJ8rPRjY83zIfQPndiIZjhjkTAiLkUmZ0GP7pN3lMvkr4TJdkRG78+amyRlX/JmngEQidx2px3ImCPy9bdr/mjzpPzyBda7d+/jFhYW1F2PB1JjRnwQJpMveWKHXO4uk4etlO1InGbMSb+EfiEhQGhHLhssU11IEvd/kBwr/aD+RKJM7RcTFZasmnkEycJiZOH3kw5IGbvGt6n6wsXFJbOy/FonzHrRRpd4kmulRdU+Hu7/5dsOsyQ1ZuQDESC5G70/+fUkqajhe6j35L1fv08e55eQGjvZ1EU70TZICBDNIklUvJ8VK3q4MBATSS8kZSle8Bwh/iZOLpu0Yl38m1L1/SbIQHf3fVeKFS/1G+jFtymCpOzi+adFE8an8W2HOZKaIovApSQxedUjEQBEddKk5HcT88VecXI2Kf+cciCTivgykxAwJASIZoiuWRor+uTJ+0V1sUuj18SFySbJd+ybpIyNXWPKbkdXF+d9J8+eD1UJARu+bBiRUMNyE5o/ztDcLLvM7GztLqDCgm9bzBFp0v2/3U9if+PbDsJ4ISFAaCc6/HuNbn+x52WJahyQy88MUDBmbcpCwN3dPSU1LX2Dz+hQvk0RHNcuFdeJxSKhVTOaKUoLpVIhViiYy7mUlHE78mWj5XI2hG+rCGFDQoAgWgBaDTs6OhaUX77o69CL7x5+wuLK+bO3x86Y3twCyYQeUabGhEStkP2DBn2iLZAQIIgWIgkMWJ517MRmlRCw5dsWoXClRMF6OjiccHBwoP4BfJEaM1IcJmvIz5DclUi8cry8PPM9wwdkThCLc/dFif+JHAF+jSSEDAkBQjuylBdSk6Q9mwwPKM70qu8rIPHMFZtwWIAD4QF5dk4xeQUeofwpu+rlKeF/5dsO80VpsW6FrL6/9BNJvQ37+bCKMC7oR0I0g8w6JTVpnPSJsiO1E9C0CXtMOT9AnTBp6NyvvknJHDXlT2bvFYA3wL6b3U9Yj4FvW8wXhcUZOfPRmNSbmhCwQ85G8mAYYUSQECCaRRY2YhNLTO4VHyta/3gfATQZ0lRVYJpg0MPgpxoEg591EfNtDm9g7QXlT9k3Zkx76Q2+bSGAzDosJjxJkSSd/UCUKy1S1yW8viJO9o8H3UAJQjMkBAjtSKJPRzNZhSxOnCCLa7QgHpPcTVQkjTXlZkJNMSY46K/wCqiEgNl6BUrO5NWJ+rvupNwAvpHWxidKlsvi5J+pFHu4WMaqH9stSczdP23HsrA4+UfyMwpvxqiPAPEkJASIZvCsi89ShIfHRC16fK2BpV8kJ0nfNpeQgDrwCrj067u39EzeNGdP3w5822No4A0oyf/pdvTrf36Xb1sI1dAem7VRMSDml8eqBrDGwNLklfUNhlLPjGRM9c/NP+esZFKTLvMl2gYJAaJppEk/3L+f9BR3U5SU9XdpEvs7nyYJieCg0e9s/nzLWCcXsVMnK2u+zTEoZ48d+TUgwH8VNRASDiJpUnqWamtyZ6P/MkE0hoQAQbQBDILhkyZG7Evfu2dY6FSHp58xj79SacHJ36yfub9fEhi4km9bCILQDeZx9iIIPYAld4c/5/f30z8cSPAeHWry+QJoJVxecrYo6pXZc/m2hSAI3UFCgCDagZ+f77+vlJUFFOefmOHqNaQz3/boi9u3qtjZo5kXZs+c/gItNUwQpgUJAYJoJ+PHjX3zi63bvMu79xxqio2GkByYl7GvYsqLEydTXgBBmB4kBAiinWCGHPnySy98tmlzfofnQ3vb2vfk2ySdARFw4vvdlcGjRs6nxkEEYZqQECAIHYBFiWbNmD5y+1dff+c8eJiLk4vY6MsK79yuYScO7K4YFRiwwMPD/Su+7SEIQj+QECAIHWFnZ1fy2tw53ju++jr9VsX158RDJDZ829RWkBj4s/zA1ZciwqXkCSAI04aEAEHoEIQJZs6YPvpQRuaHeYf2vuo9OrSbsZUWXi4quHfl3Omzc16Z/QLlBBCE6WNcZyiCMBLGBAe9c/p0/skj+3as9Q2eYG/VxTiqCwtyMn595t5v2VGvzA6n6gCCMA9ICBCEnhg82OvzHj0cTu/46utUhz6uXcRDJNYdOnbi26wm+UVZwAqPHakODPBfRc2CCMK8ICFAEHoE8fU35s9zPXbs+FtHdib/vz4DvCxFvsMthRIuuHaxGC2Dqxx7OmS9NnfOm8hz4NsmgiAMizDORgRhwsDFHhgY8KGfn+9/srNzFmfu2Djfxes5q/6Dh/L2/0MyoEoAVFpZdih8eUo4lQYShBlDQoAgDARKDIODgxYPGzY08cgPWe8f3Cqb0cvN3dLJWWTRzbGX3l8f3QHhAbh+oajy/r07V0NfGDffxcUlU+8vTBCEoCEhQBAGBpn40tCQ6MAA/w/y8/Onn/kxM6qiosK1l6v4nkNvZ5ue/fozXeUSYOZ/tVRZV1aqvH3/97q7IpF4f/DIwK0ikShNJy9AEITRQ0KAIHgC8fiRI0euwlZbW2tXWFgYfk6pfPngDweC7Rx63rFz6mNnaWXNbOzsWRe77qy55Y7LL19k9+7Wsqrya+y3X2/+evVCcSd7e/tiTw/35Bck01McHBwKDfTWCIIwIv5/aQB7MxQm5vMAAAAASUVORK5CYII=)"
      ],
      "metadata": {
        "id": "DZhXmo4K9VXt"
      }
    },
    {
      "cell_type": "code",
      "source": [
        "testes = [\"bb\", \"ab\", \"bab\", \"abab\", \"babbbb\", \"abaaaaa\", \"a6aab\", \"babbab\", \"abbbbbab\", \"abbbbbbab\"]\n",
        "\n",
        "regex = r\"(ab|ba)($|((a|b)b)*)\"\n",
        "\n",
        "for teste in testes:\n",
        "  resultado = re.fullmatch(regex, teste)\n",
        "  if resultado is not None:\n",
        "    print(f\"String '{teste}' é aceita\")\n",
        "  else:\n",
        "    print(f\"String '{teste}' é rejeitada\")"
      ],
      "metadata": {
        "id": "gGk8Az0K-RpQ",
        "colab": {
          "base_uri": "https://localhost:8080/"
        },
        "outputId": "18bf7ade-3bda-4607-d03a-74ec958edc2b"
      },
      "execution_count": null,
      "outputs": [
        {
          "output_type": "stream",
          "name": "stdout",
          "text": [
            "String 'bb' é rejeitada\n",
            "String 'ab' é aceita\n",
            "String 'bab' é rejeitada\n",
            "String 'abab' é aceita\n",
            "String 'babbbb' é aceita\n",
            "String 'abaaaaa' é rejeitada\n",
            "String 'a6aab' é rejeitada\n",
            "String 'babbab' é aceita\n",
            "String 'abbbbbab' é aceita\n",
            "String 'abbbbbbab' é rejeitada\n"
          ]
        }
      ]
    },
    {
      "cell_type": "markdown",
      "source": [
        "## Resultados esperados\n",
        "\n",
        "String 'bb' é rejeitada\n",
        "\n",
        "String 'ab' é aceita\n",
        "\n",
        "String 'bab' é rejeitada\n",
        "\n",
        "String 'abab' é aceita\n",
        "\n",
        "String 'babbbb' é aceita\n",
        "\n",
        "String 'abaaaaa' é rejeitada\n",
        "\n",
        "String 'a6aab' é rejeitada\n",
        "\n",
        "String 'babbab' é aceita\n",
        "\n",
        "String 'abbbbbab' é aceita\n",
        "\n",
        "String 'abbbbbbab' é rejeitada"
      ],
      "metadata": {
        "id": "C-FGC34Iso5X"
      }
    },
    {
      "cell_type": "markdown",
      "source": [
        "# 5. Implemente e teste uma expressão regular correspondente ao diagrama a seguir com o alfabeto $\\Sigma = \\{0, 1, 2, ..., 9\\}$:\n",
        "\n",
        "![image.png](data:image/png;base64,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)"
      ],
      "metadata": {
        "id": "O2kO_W3x-UT8"
      }
    },
    {
      "cell_type": "code",
      "source": [
        "testes = [\"1\", \"21\", \"520\", \"10702\", \"7O31\", \"270315\", \"27031\", \"70315\", \"2035035\", \"20350310\"]\n",
        "\n",
        "regex = r\"(1|5)(0(2|7))*|(2|7)((03)(1|5))*\"\n",
        "\n",
        "for teste in testes:\n",
        "  resultado = re.fullmatch(regex, teste)\n",
        "  if resultado is not None:\n",
        "    print(f\"String '{teste}' é aceita\")\n",
        "  else:\n",
        "    print(f\"String '{teste}' é rejeitada\")"
      ],
      "metadata": {
        "id": "WwichxeF-Uj_",
        "colab": {
          "base_uri": "https://localhost:8080/"
        },
        "outputId": "d1146877-a234-46c1-96ae-7f43eba971b9"
      },
      "execution_count": null,
      "outputs": [
        {
          "output_type": "stream",
          "name": "stdout",
          "text": [
            "String '1' é aceita\n",
            "String '21' é rejeitada\n",
            "String '520' é rejeitada\n",
            "String '10702' é aceita\n",
            "String '7O31' é rejeitada\n",
            "String '270315' é rejeitada\n",
            "String '27031' é rejeitada\n",
            "String '70315' é rejeitada\n",
            "String '2035035' é aceita\n",
            "String '20350310' é rejeitada\n"
          ]
        }
      ]
    },
    {
      "cell_type": "markdown",
      "source": [
        "## Resultados esperados\n",
        "\n",
        "String '1' é aceita\n",
        "\n",
        "String '21' é rejeitada\n",
        "\n",
        "String '520' é rejeitada\n",
        "\n",
        "String '10702' é aceita\n",
        "\n",
        "String '7O31' é rejeitada\n",
        "\n",
        "String '270315' é rejeitada\n",
        "\n",
        "String '27031' é rejeitada\n",
        "\n",
        "String '70315' é rejeitada\n",
        "\n",
        "String '2035035' é aceita\n",
        "\n",
        "String '20350310' é rejeitada"
      ],
      "metadata": {
        "id": "_lDjdHMGtI6c"
      }
    },
    {
      "cell_type": "code",
      "source": [],
      "metadata": {
        "id": "NQ7OouLZtML8"
      },
      "execution_count": null,
      "outputs": []
    }
  ]
}